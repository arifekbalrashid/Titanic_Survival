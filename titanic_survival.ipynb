{
 "cells": [
  {
   "cell_type": "markdown",
   "id": "8a8ab254",
   "metadata": {},
   "source": [
    "### Importing dependencies"
   ]
  },
  {
   "cell_type": "code",
   "execution_count": null,
   "id": "0dfae8aa",
   "metadata": {},
   "outputs": [],
   "source": [
    "import numpy as np\n",
    "import pandas as pd\n",
    "import matplotlib.pyplot as plt\n",
    "import seaborn as sns\n",
    "from sklearn.model_selection import train_test_split\n",
    "from sklearn.preprocessing import LabelEncoder\n",
    "from sklearn.linear_model import LogisticRegression\n",
    "from sklearn.metrics import accuracy_score\n"
   ]
  },
  {
   "cell_type": "markdown",
   "id": "7ad59896",
   "metadata": {},
   "source": [
    "### Reading the dataset and renaming a few columns"
   ]
  },
  {
   "cell_type": "code",
   "execution_count": null,
   "id": "8175d8f0",
   "metadata": {},
   "outputs": [],
   "source": [
    "df=pd.read_csv('titanic.csv')\n",
    "df.rename(columns={'Pclass':'Passenger_class'},inplace=True)\n",
    "df.rename(columns={'SibSp':'Sibling_spouse'},inplace=True)\n",
    "df.rename(columns={'Parch':'Parent_children'},inplace=True)\n",
    "df.head(10)"
   ]
  },
  {
   "cell_type": "code",
   "execution_count": null,
   "id": "30209425",
   "metadata": {},
   "outputs": [],
   "source": [
    "df.describe()"
   ]
  },
  {
   "cell_type": "code",
   "execution_count": null,
   "id": "d0e8760c",
   "metadata": {},
   "outputs": [],
   "source": [
    "df.info()"
   ]
  },
  {
   "cell_type": "code",
   "execution_count": null,
   "id": "cb89e371",
   "metadata": {},
   "outputs": [],
   "source": [
    "df.dtypes"
   ]
  },
  {
   "cell_type": "markdown",
   "id": "36091d02",
   "metadata": {},
   "source": [
    "#### Checking relationship between Passenger class and Survival"
   ]
  },
  {
   "cell_type": "code",
   "execution_count": null,
   "id": "0bf4e497",
   "metadata": {},
   "outputs": [],
   "source": [
    "sns.countplot(x=df['Survived'],hue=df['Passenger_class'])"
   ]
  },
  {
   "cell_type": "code",
   "execution_count": null,
   "id": "a910f5f6",
   "metadata": {},
   "outputs": [],
   "source": [
    "df.isna().sum() # checking for null values "
   ]
  },
  {
   "cell_type": "markdown",
   "id": "1f16611d",
   "metadata": {},
   "source": [
    "#### Relationship between Sex and Survival"
   ]
  },
  {
   "cell_type": "code",
   "execution_count": null,
   "id": "edb99e22",
   "metadata": {},
   "outputs": [],
   "source": [
    "sns.countplot(x=df['Sex'],hue=df['Survived'])"
   ]
  },
  {
   "cell_type": "code",
   "execution_count": null,
   "id": "3dee07cf",
   "metadata": {},
   "outputs": [],
   "source": [
    "df['Fare'].fillna(df['Fare'].mean(),inplace=True) # 1 Value was missing so we replaced nan \\\n",
    "                                                  # with the mean of the remaining values in 'Fare' column\n",
    "df"
   ]
  },
  {
   "cell_type": "code",
   "execution_count": null,
   "id": "48c121e7",
   "metadata": {},
   "outputs": [],
   "source": [
    "high_fare_df = df[df['Fare'] < 30.0]               # By playing with the number here we can see that \\\n",
    "sns.countplot(x=df['Survived'], data=high_fare_df) # higher the fare, more the chances to survive\n",
    "# shows high fare increases the survival rate"
   ]
  },
  {
   "cell_type": "code",
   "execution_count": null,
   "id": "baab7101",
   "metadata": {},
   "outputs": [],
   "source": [
    "sns.countplot(x=df['Sex'],hue=df['Survived'])\n",
    "# shows all the female survived whereas no male survived"
   ]
  },
  {
   "cell_type": "code",
   "execution_count": null,
   "id": "bb7851a8",
   "metadata": {},
   "outputs": [],
   "source": [
    "df.columns"
   ]
  },
  {
   "cell_type": "markdown",
   "id": "c6a172a4",
   "metadata": {},
   "source": [
    "#### Encoding the Sex values('Male', 'Female') to int values"
   ]
  },
  {
   "cell_type": "code",
   "execution_count": null,
   "id": "cb56f615",
   "metadata": {},
   "outputs": [],
   "source": [
    "le=LabelEncoder()\n",
    "df['Sex']=le.fit_transform(df['Sex'])\n",
    "df['Sex']\n",
    "# male=1\n",
    "# female=0"
   ]
  },
  {
   "cell_type": "code",
   "execution_count": null,
   "id": "559c4e6d",
   "metadata": {},
   "outputs": [],
   "source": [
    "df=df.drop(['Age'],axis=1)\n",
    "df"
   ]
  },
  {
   "cell_type": "markdown",
   "id": "e399bfe0",
   "metadata": {},
   "source": [
    "### Loading the independent and dependent variables"
   ]
  },
  {
   "cell_type": "code",
   "execution_count": 208,
   "id": "14dd1fac",
   "metadata": {},
   "outputs": [],
   "source": [
    "X=df[['Sex','Fare','Passenger_class']].values\n",
    "y=df['Survived'].values"
   ]
  },
  {
   "cell_type": "markdown",
   "id": "365ea08b",
   "metadata": {},
   "source": [
    "----"
   ]
  },
  {
   "cell_type": "markdown",
   "id": "8241ba7d",
   "metadata": {},
   "source": [
    "##### Checking the relationship b/w the following columns:\n",
    "* Sex\n",
    "* Fare\n",
    "* Passenger Class\n",
    "* Survived"
   ]
  },
  {
   "cell_type": "code",
   "execution_count": null,
   "id": "f426de66",
   "metadata": {},
   "outputs": [],
   "source": [
    "sns.pairplot(df[['Sex','Fare','Passenger_class','Survived']])"
   ]
  },
  {
   "cell_type": "markdown",
   "id": "4bc2ba19",
   "metadata": {},
   "source": [
    "#### Splitting the train and test data"
   ]
  },
  {
   "cell_type": "code",
   "execution_count": 209,
   "id": "04ed10ae",
   "metadata": {},
   "outputs": [],
   "source": [
    "X_train, X_test, y_train, y_test = train_test_split(X,y,test_size=0.2,random_state=42)"
   ]
  },
  {
   "cell_type": "markdown",
   "id": "11d3b701",
   "metadata": {},
   "source": [
    "### Fitting the Logistic Regression model"
   ]
  },
  {
   "cell_type": "code",
   "execution_count": 210,
   "id": "ceb03981",
   "metadata": {},
   "outputs": [],
   "source": [
    "log_reg=LogisticRegression()\n",
    "log_reg.fit(X_train,y_train)\n",
    "y_pred_train=log_reg.predict(X_train)\n",
    "y_pred_test=log_reg.predict(X_test)"
   ]
  },
  {
   "cell_type": "markdown",
   "id": "a33f23cc",
   "metadata": {},
   "source": [
    "#### Checking the accuracy"
   ]
  },
  {
   "cell_type": "code",
   "execution_count": null,
   "id": "0fc67c9f",
   "metadata": {},
   "outputs": [],
   "source": [
    "print(\"Train accuracy score: \",accuracy_score(y_train,y_pred_train))\n",
    "print(\"Test accuracy score: \",accuracy_score(y_test,y_pred_test))"
   ]
  }
 ],
 "metadata": {
  "kernelspec": {
   "display_name": "venv",
   "language": "python",
   "name": "python3"
  },
  "language_info": {
   "codemirror_mode": {
    "name": "ipython",
    "version": 3
   },
   "file_extension": ".py",
   "mimetype": "text/x-python",
   "name": "python",
   "nbconvert_exporter": "python",
   "pygments_lexer": "ipython3",
   "version": "3.13.1"
  }
 },
 "nbformat": 4,
 "nbformat_minor": 5
}
